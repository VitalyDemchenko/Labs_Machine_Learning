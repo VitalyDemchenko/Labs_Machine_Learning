{
 "cells": [
  {
   "cell_type": "code",
   "execution_count": null,
   "id": "a6b544c1-c9cd-4ed6-af9b-9b5baaa9e2e7",
   "metadata": {},
   "outputs": [],
   "source": [
    "# Демченко ВС, 6 група ФІТ. Варіант 6 \n",
    "\n",
    "# Завдання 1"
   ]
  },
  {
   "cell_type": "code",
   "execution_count": 4,
   "id": "3fbc6c14-2df4-4e75-b7ad-92dbaadc208c",
   "metadata": {},
   "outputs": [],
   "source": [
    "# 1. Завантажити набір даних Iris з бібліотеки scikit-learn.\n",
    "\n",
    "from sklearn.datasets import load_iris\n",
    "from sklearn.model_selection import train_test_split\n",
    "from sklearn.svm import SVC\n",
    "from sklearn.ensemble import RandomForestClassifier\n",
    "from sklearn.metrics import accuracy_score\n",
    "import numpy as np\n",
    "\n",
    "\n",
    "iris = load_iris()\n",
    "X = iris.data\n",
    "y = iris.target"
   ]
  },
  {
   "cell_type": "code",
   "execution_count": 5,
   "id": "84125812-9710-4400-8cac-1439db3e5199",
   "metadata": {},
   "outputs": [],
   "source": [
    "# 2. Розділити дані на тренувальний та тестовий набори.\n",
    "\n",
    "X_train, X_test, y_train, y_test = train_test_split(X, y, test_size=0.2, random_state=42)"
   ]
  },
  {
   "cell_type": "code",
   "execution_count": 6,
   "id": "3859a1c3-827d-4ff1-8d0c-4776c7e3175e",
   "metadata": {},
   "outputs": [
    {
     "name": "stdout",
     "output_type": "stream",
     "text": [
      " Точність моделі SVM:  1.0\n"
     ]
    }
   ],
   "source": [
    "# 3. Застосувати алгоритм SVM для класифікації даних та визначити його точність.\n",
    "\n",
    "\n",
    "svm_model = SVC(kernel='linear', C=1)\n",
    "svm_model.fit(X_train, y_train)\n",
    "\n",
    "\n",
    "svm_predictions = svm_model.predict(X_test)\n",
    "svm_accuracy = accuracy_score(y_test, svm_predictions)\n",
    "\n",
    "print(\" Точність моделі SVM: \", svm_accuracy)"
   ]
  },
  {
   "cell_type": "code",
   "execution_count": 7,
   "id": "387e753f-5378-4533-a1fa-4f2fb21d54d3",
   "metadata": {},
   "outputs": [
    {
     "name": "stdout",
     "output_type": "stream",
     "text": [
      " Точність моделі Random Forest: 1.0\n"
     ]
    }
   ],
   "source": [
    "# 4. Застосувати Random Forest для класифікації даних та визначити його точність.\n",
    "\n",
    "\n",
    "rf_model = RandomForestClassifier(n_estimators=100, random_state=42)\n",
    "rf_model.fit(X_train, y_train)\n",
    "\n",
    "\n",
    "rf_predictions = rf_model.predict(X_test)\n",
    "rf_accuracy = accuracy_score(y_test, rf_predictions)\n",
    "\n",
    "print(\" Точність моделі Random Forest:\" , rf_accuracy)"
   ]
  },
  {
   "cell_type": "code",
   "execution_count": null,
   "id": "1252bac5-f564-42e6-8cf1-93c5562541c0",
   "metadata": {},
   "outputs": [],
   "source": [
    "# 5.Порівняти результати обох алгоритмів та обговорити їхню ефективність.\n",
    "\n",
    "# результати однакові\n",
    "\n",
    "# Отже, \n",
    "\n",
    "#    SVM може працювати повільно у випадку великої кількості спостережень.\n",
    "# SVM Схильний до перенавчання, особливо при великій кількості ознак у вхідних даних.\n",
    "#    Random Forest в порівнянні зі SVM зазвичай працює швидше,\n",
    "# оскільки він може обробляти багато дерев паралельно.\n",
    "# Random Forest зазвичай менш схильний до перенавчання завдяки використанню багатьох дерев.\n"
   ]
  }
 ],
 "metadata": {
  "kernelspec": {
   "display_name": "Python 3 (ipykernel)",
   "language": "python",
   "name": "python3"
  },
  "language_info": {
   "codemirror_mode": {
    "name": "ipython",
    "version": 3
   },
   "file_extension": ".py",
   "mimetype": "text/x-python",
   "name": "python",
   "nbconvert_exporter": "python",
   "pygments_lexer": "ipython3",
   "version": "3.10.9"
  }
 },
 "nbformat": 4,
 "nbformat_minor": 5
}
