{
 "cells": [
  {
   "cell_type": "code",
   "execution_count": null,
   "id": "128f5076-5686-4ce6-ad3e-0c4de0ef0e18",
   "metadata": {},
   "outputs": [],
   "source": [
    "\n",
    "\n",
    "#                     ПІДСУМКОВА КОНТРОЛЬНА РОБОТА\n",
    "#                         МАШИННЕ НАВЧАННЯ\n",
    "\n",
    "#                           Завдання 1\n",
    "#          датасет Global YouTube Statistics 2023 з Kaggle\n",
    "\n",
    "\n"
   ]
  },
  {
   "cell_type": "code",
   "execution_count": 21,
   "id": "61b61764-f8bf-4076-9312-f2d98f4d3dee",
   "metadata": {},
   "outputs": [],
   "source": [
    "# Загрузити датасет Global YouTube Statistics 2023 з Kaggle\n",
    "# 1. Прочитайте CSV файл\n",
    "import pandas as pd\n",
    "data = pd.read_csv(\"yt_statistic.csv\", encoding = 'latin1')"
   ]
  },
  {
   "cell_type": "code",
   "execution_count": 22,
   "id": "f83da43b-bdf9-49b0-8207-cb1fb1992bb4",
   "metadata": {},
   "outputs": [
    {
     "name": "stdout",
     "output_type": "stream",
     "text": [
      "   rank                    Youtuber  subscribers   video views  \\\n",
      "0     1                    T-Series    245000000  2.280000e+11   \n",
      "1     2              YouTube Movies    170000000  0.000000e+00   \n",
      "2     3                     MrBeast    166000000  2.836884e+10   \n",
      "3     4  Cocomelon - Nursery Rhymes    162000000  1.640000e+11   \n",
      "4     5                   SET India    159000000  1.480000e+11   \n",
      "\n",
      "           category                       Title  uploads        Country  \\\n",
      "0             Music                    T-Series    20082          India   \n",
      "1  Film & Animation               youtubemovies        1  United States   \n",
      "2     Entertainment                     MrBeast      741  United States   \n",
      "3         Education  Cocomelon - Nursery Rhymes      966  United States   \n",
      "4             Shows                   SET India   116536          India   \n",
      "\n",
      "  Abbreviation   channel_type  ...  subscribers_for_last_30_days  \\\n",
      "0           IN          Music  ...                     2000000.0   \n",
      "1           US          Games  ...                           NaN   \n",
      "2           US  Entertainment  ...                     8000000.0   \n",
      "3           US      Education  ...                     1000000.0   \n",
      "4           IN  Entertainment  ...                     1000000.0   \n",
      "\n",
      "   created_year  created_month  created_date  \\\n",
      "0        2006.0            Mar          13.0   \n",
      "1        2006.0            Mar           5.0   \n",
      "2        2012.0            Feb          20.0   \n",
      "3        2006.0            Sep           1.0   \n",
      "4        2006.0            Sep          20.0   \n",
      "\n",
      "   Gross tertiary education enrollment (%)    Population  Unemployment rate  \\\n",
      "0                                     28.1  1.366418e+09               5.36   \n",
      "1                                     88.2  3.282395e+08              14.70   \n",
      "2                                     88.2  3.282395e+08              14.70   \n",
      "3                                     88.2  3.282395e+08              14.70   \n",
      "4                                     28.1  1.366418e+09               5.36   \n",
      "\n",
      "   Urban_population   Latitude  Longitude  \n",
      "0       471031528.0  20.593684  78.962880  \n",
      "1       270663028.0  37.090240 -95.712891  \n",
      "2       270663028.0  37.090240 -95.712891  \n",
      "3       270663028.0  37.090240 -95.712891  \n",
      "4       471031528.0  20.593684  78.962880  \n",
      "\n",
      "[5 rows x 28 columns]\n"
     ]
    }
   ],
   "source": [
    "#  2. Виведіть перші п'ять рядків \n",
    "print(data.head())"
   ]
  },
  {
   "cell_type": "code",
   "execution_count": 23,
   "id": "827cdbf9-2120-49bb-945d-ff3ea478ba49",
   "metadata": {},
   "outputs": [
    {
     "name": "stdout",
     "output_type": "stream",
     "text": [
      "Розмір =  (995, 28)\n",
      "rank                                        0.000000\n",
      "Youtuber                                    0.000000\n",
      "subscribers                                 0.000000\n",
      "video views                                 0.000000\n",
      "category                                    4.623116\n",
      "Title                                       0.000000\n",
      "uploads                                     0.000000\n",
      "Country                                    12.261307\n",
      "Abbreviation                               12.261307\n",
      "channel_type                                3.015075\n",
      "video_views_rank                            0.100503\n",
      "country_rank                               11.658291\n",
      "channel_type_rank                           3.316583\n",
      "video_views_for_the_last_30_days            5.628141\n",
      "lowest_monthly_earnings                     0.000000\n",
      "highest_monthly_earnings                    0.000000\n",
      "lowest_yearly_earnings                      0.000000\n",
      "highest_yearly_earnings                     0.000000\n",
      "subscribers_for_last_30_days               33.869347\n",
      "created_year                                0.502513\n",
      "created_month                               0.502513\n",
      "created_date                                0.502513\n",
      "Gross tertiary education enrollment (%)    12.361809\n",
      "Population                                 12.361809\n",
      "Unemployment rate                          12.361809\n",
      "Urban_population                           12.361809\n",
      "Latitude                                   12.361809\n",
      "Longitude                                  12.361809\n",
      "dtype: float64\n"
     ]
    }
   ],
   "source": [
    "# 3. Виведіть розміри датасету, перевірте наявність пропусків, дублікатів. \n",
    "print(\"Розмір = \", data.shape )\n",
    "\n",
    "miss_data = data.isna().sum()/len(data)*100\n",
    "print(miss_data)"
   ]
  },
  {
   "cell_type": "code",
   "execution_count": 24,
   "id": "a7d697b0-e69a-4f23-abfa-56ab7e7dc4ec",
   "metadata": {},
   "outputs": [],
   "source": [
    "# 4. Якщо є пропуски, замінить тип даних на float і середнє значення за \n",
    "# стовпцем.\n",
    "data = data.fillna(data.mean(numeric_only=True))\n",
    "data['subscribers'] = data['subscribers'].astype(float)\n",
    "data['video views'] = data['video views'].astype(float)\n",
    "data['uploads'] = data['uploads'].astype(float)\n"
   ]
  },
  {
   "cell_type": "code",
   "execution_count": 25,
   "id": "1b0212d3-09ce-4c4f-af96-2cfe928ddbfb",
   "metadata": {},
   "outputs": [
    {
     "name": "stdout",
     "output_type": "stream",
     "text": [
      "Розмір =  (995, 28)\n",
      "rank                                        0.000000\n",
      "Youtuber                                    0.000000\n",
      "subscribers                                 0.000000\n",
      "video views                                 0.000000\n",
      "category                                    4.623116\n",
      "Title                                       0.000000\n",
      "uploads                                     0.000000\n",
      "Country                                    12.261307\n",
      "Abbreviation                               12.261307\n",
      "channel_type                                3.015075\n",
      "video_views_rank                            0.000000\n",
      "country_rank                                0.000000\n",
      "channel_type_rank                           0.000000\n",
      "video_views_for_the_last_30_days            0.000000\n",
      "lowest_monthly_earnings                     0.000000\n",
      "highest_monthly_earnings                    0.000000\n",
      "lowest_yearly_earnings                      0.000000\n",
      "highest_yearly_earnings                     0.000000\n",
      "subscribers_for_last_30_days                0.000000\n",
      "created_year                                0.000000\n",
      "created_month                               0.502513\n",
      "created_date                                0.000000\n",
      "Gross tertiary education enrollment (%)     0.000000\n",
      "Population                                  0.000000\n",
      "Unemployment rate                           0.000000\n",
      "Urban_population                            0.000000\n",
      "Latitude                                    0.000000\n",
      "Longitude                                   0.000000\n",
      "dtype: float64\n"
     ]
    }
   ],
   "source": [
    "# 5. Ще раз перевірте кількість пропусків\n",
    "print(\"Розмір = \", data.shape )\n",
    "\n",
    "miss_data = data.isna().sum()/len(data)*100\n",
    "print(miss_data)"
   ]
  },
  {
   "cell_type": "code",
   "execution_count": 26,
   "id": "7f017740-39eb-4882-8748-cc158c1daeaa",
   "metadata": {},
   "outputs": [
    {
     "name": "stdout",
     "output_type": "stream",
     "text": [
      " Унікальних країн = 49\n"
     ]
    }
   ],
   "source": [
    "# 6. Перевірте, скільки унікальних країн представлено у колонці \"Country\"\n",
    "\n",
    "un_countries = data['Country'].nunique()\n",
    "print(\" Унікальних країн = \" + str(un_countries))"
   ]
  },
  {
   "cell_type": "code",
   "execution_count": 27,
   "id": "bfce332a-d950-496c-9600-2fc22eeaf689",
   "metadata": {},
   "outputs": [
    {
     "data": {
      "image/png": "[encoded data removed]",
      "text/plain": [
       "<Figure size 1000x700 with 1 Axes>"
      ]
     },
     "metadata": {},
     "output_type": "display_data"
    }
   ],
   "source": [
    "# 7. Побудуйте діаграму розподілу переглядів (використовуйте kind='hist')\n",
    "\n",
    "import matplotlib.pyplot as plt\n",
    "plt.figure(figsize=(10,7))\n",
    "plt.hist(data['video views'], bins = 25, color= 'green', edgecolor= 'black')\n",
    "plt.title(' Розподіл переглядів ')\n",
    "plt.xlabel(' К-ть переглядів ')\n",
    "plt.ylabel(' Частота ')\n",
    "plt.grid(axis = 'y', alpha = 0.75)\n",
    "plt.show()\n"
   ]
  },
  {
   "cell_type": "code",
   "execution_count": 28,
   "id": "c189fb58-1881-4463-a2b3-7cdb13eafbd5",
   "metadata": {},
   "outputs": [
    {
     "name": "stdout",
     "output_type": "stream",
     "text": [
      " Максимальна к-ть =  228000000000.0\n",
      " Мінімальна к-ть переглядів =  0.0\n",
      " Середня к-ть =  11039537052.03819\n"
     ]
    }
   ],
   "source": [
    "# 8. Визначте максимальну, мінімальну, середню кількість переглядів \n",
    "# (використовуйте методи max, min, mean)\n",
    "\n",
    "max_view = data['video views'].max()\n",
    "min_view = data['video views'].min()\n",
    "mean_view = data['video views'].mean()\n",
    "\n",
    "print(\" Максимальна к-ть =  \" + str(max_view))\n",
    "print(\" Мінімальна к-ть переглядів =  \" + str(min_view))\n",
    "print(\" Середня к-ть =  \" + str(mean_view))\n"
   ]
  },
  {
   "cell_type": "code",
   "execution_count": 29,
   "id": "734b6b77-3684-4bcb-8be4-1fdadf9d662e",
   "metadata": {},
   "outputs": [
    {
     "name": "stdout",
     "output_type": "stream",
     "text": [
      " Країна з найбільшою к-тю відео - India\n",
      " Кількість відео = 3728212.0\n"
     ]
    }
   ],
   "source": [
    "# 9. Знайдіть країну, де найбільше відео було завантажено на YouTube\n",
    "\n",
    "country_count = data.groupby('Country')['uploads'].sum()\n",
    "country_most_viewed = country_count.idxmax()\n",
    "most_vid = country_count.max()\n",
    "print(\" Країна з найбільшою к-тю відео - \" + str(country_most_viewed))\n",
    "print(\" Кількість відео = \" + str(most_vid))"
   ]
  },
  {
   "cell_type": "code",
   "execution_count": 30,
   "id": "e3f8d9f1-9b9c-43c9-9035-517c577879eb",
   "metadata": {},
   "outputs": [
    {
     "name": "stdout",
     "output_type": "stream",
     "text": [
      " Найбільша к-ть завантажень: ABP NEWS\n",
      " Найменша к-ть завантажень: Music\n"
     ]
    }
   ],
   "source": [
    "# 10. Знайдіть відео (виведіть його назву) з найбільшою та найменшою \n",
    "# кількістю завантажень uploads. \n",
    "\n",
    "max_upl = data['uploads'].idxmax()\n",
    "vid_max = data.loc[max_upl, 'Title']\n",
    "min_upl = data['uploads'].idxmin()\n",
    "vid_min = data.loc[min_upl, 'Title']\n",
    "print(\" Найбільша к-ть завантажень: \" + str(vid_max))\n",
    "print(\" Найменша к-ть завантажень: \" + str(vid_min))\n"
   ]
  },
  {
   "cell_type": "code",
   "execution_count": null,
   "id": "37dde39d-f356-4302-89fa-f5d9aaddd863",
   "metadata": {},
   "outputs": [],
   "source": []
  }
 ],
 "metadata": {
  "kernelspec": {
   "display_name": "Python 3 (ipykernel)",
   "language": "python",
   "name": "python3"
  },
  "language_info": {
   "codemirror_mode": {
    "name": "ipython",
    "version": 3
   },
   "file_extension": ".py",
   "mimetype": "text/x-python",
   "name": "python",
   "nbconvert_exporter": "python",
   "pygments_lexer": "ipython3",
   "version": "3.10.9"
  }
 },
 "nbformat": 4,
 "nbformat_minor": 5
}
