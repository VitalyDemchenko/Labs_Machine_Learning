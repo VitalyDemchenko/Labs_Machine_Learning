{
 "cells": [
  {
   "cell_type": "code",
   "execution_count": null,
   "id": "dc193bbc-9e02-4d7e-847a-9ac5ace0aa55",
   "metadata": {},
   "outputs": [],
   "source": [
    "# ВАРІАНТ 6 "
   ]
  },
  {
   "cell_type": "code",
   "execution_count": null,
   "id": "f60b45a4-0253-4f07-931e-50a7182f80f2",
   "metadata": {},
   "outputs": [],
   "source": [
    " # Завдання 1. Створіть одновимірний масив (вектор) з перших 10-ти додатних парних чисел та виведіть його значення"
   ]
  },
  {
   "cell_type": "code",
   "execution_count": 1,
   "id": "58ff172c-ff25-4cf4-b0a9-94c50e0d50fb",
   "metadata": {},
   "outputs": [],
   "source": [
    "import numpy as np"
   ]
  },
  {
   "cell_type": "code",
   "execution_count": 2,
   "id": "4c08f24c-a5ae-4342-b264-bcf33da5a855",
   "metadata": {},
   "outputs": [],
   "source": [
    "a = np.array([2,4,6,8,10,12,14,16,18,20], dtype = float)"
   ]
  },
  {
   "cell_type": "code",
   "execution_count": 3,
   "id": "c659afcf-f439-4322-a202-dcdf9d49de67",
   "metadata": {},
   "outputs": [
    {
     "name": "stdout",
     "output_type": "stream",
     "text": [
      "[ 2.  4.  6.  8. 10. 12. 14. 16. 18. 20.]\n"
     ]
    }
   ],
   "source": [
    "print(a)"
   ]
  },
  {
   "cell_type": "code",
   "execution_count": null,
   "id": "06ecf809-3dbd-4ddb-81f3-93df221d4f98",
   "metadata": {},
   "outputs": [],
   "source": [
    "# Завдання 2 Створіть двовимірний масив (матрицю) розміром 3x3, заповніть його сумою кожного числа та його попереднього, починаючи з 1, та виведіть його значення."
   ]
  },
  {
   "cell_type": "code",
   "execution_count": 16,
   "id": "f66c053c-e358-4ec8-8e4a-971dc5571203",
   "metadata": {},
   "outputs": [
    {
     "name": "stdout",
     "output_type": "stream",
     "text": [
      "[[ 1  3  6]\n",
      " [10 15 21]\n",
      " [28 36 45]]\n"
     ]
    }
   ],
   "source": [
    "matrix2 = np.zeros((3,3), dtype = int )\n",
    "matrix2[0,0] = 1\n",
    "cv = 1\n",
    "temp = 0\n",
    "for i in range(3):\n",
    "    for j in range(3):        \n",
    "        matrix2[i,j] = cv + temp\n",
    "        cv += 1\n",
    "        temp = matrix2[i,j]\n",
    "print(matrix2)"
   ]
  },
  {
   "cell_type": "code",
   "execution_count": null,
   "id": "0a6d5df1-7366-4067-bc09-77d30330c3eb",
   "metadata": {},
   "outputs": [],
   "source": [
    "# Завдання 3 Створіть масив розміром 9x9, заповніть його випадковими цілими числами в діапазоні від 1 до 1000 та виведіть його значення."
   ]
  },
  {
   "cell_type": "code",
   "execution_count": 20,
   "id": "59aec0d0-7c96-4960-ad8d-465aa18104bb",
   "metadata": {},
   "outputs": [
    {
     "name": "stdout",
     "output_type": "stream",
     "text": [
      "[[ 75 625 768 391 708 176  71 513  99]\n",
      " [104 625 885 162 863 234 933  19 488]\n",
      " [607 417 728 584 642 896 836 991 665]\n",
      " [492 524 366  22 897 913 755 805 841]\n",
      " [622 836 589 409 386 793 504 151 103]\n",
      " [334 350 721 190 440 725 402  46 126]\n",
      " [293 778 283 124 258 844 405 220 184]\n",
      " [243 645 547 587 192 400 173 488 514]\n",
      " [921  86 929 289 201 721 836 857 863]]\n"
     ]
    }
   ],
   "source": [
    "matrix3 = np.zeros((9,9), dtype = int )\n",
    "for i in range(9):\n",
    "    for j in range(9):        \n",
    "        matrix3[i,j] = np.random.randint(1, 1001)\n",
    "print(matrix3)"
   ]
  },
  {
   "cell_type": "code",
   "execution_count": 30,
   "id": "3222bd86-32e7-474e-8ec9-75e535dda2b3",
   "metadata": {},
   "outputs": [
    {
     "name": "stdout",
     "output_type": "stream",
     "text": [
      "[[0 1 1 0 1]\n",
      " [0 0 1 0 1]\n",
      " [0 1 0 1 1]\n",
      " [1 0 0 0 0]\n",
      " [0 1 1 0 0]]\n",
      "\n",
      "[3 2 3 1 2]\n"
     ]
    }
   ],
   "source": [
    "# Завдання 4 Створіть масив розміром 5x5, заповніть його випадковими дійсними числами в діапазоні від \n",
    "# 0 до 1 та знайдіть вектор-стовпчик, що містить суму елементів кожного рядка матриці.\n",
    "matrix4 = np.zeros((5,5), dtype = int )\n",
    "for i in range(5):\n",
    "    for j in range(5):        \n",
    "        matrix4[i,j] = np.random.randint(0,2)\n",
    "print(matrix4)\n",
    "print()\n",
    "mas4 = np.zeros(5, dtype = int )\n",
    "for i in range(5):\n",
    "    for j in range(5):        \n",
    "        if matrix4[i,j] == 1 :\n",
    "            mas4[i] += 1\n",
    "print(mas4)"
   ]
  },
  {
   "cell_type": "code",
   "execution_count": 35,
   "id": "33249671-5a31-426d-b3d5-dd3c095f02cd",
   "metadata": {},
   "outputs": [
    {
     "name": "stdout",
     "output_type": "stream",
     "text": [
      "[0 1 1 1 1]\n",
      "[0 0 1 0 0]\n",
      "\n",
      "[0 1 2 1 1]\n",
      "[0 1 0 1 1]\n",
      "[0 0 1 0 0]\n"
     ]
    }
   ],
   "source": [
    "# Завдання 5 Створіть два одновимірних масиви розміром 5, заповніть їх випадковими \n",
    "# дійсними числами від 0 до 1 та виконайте на них поелементні операції додавання, віднімання та множення.\n",
    "mas51 = np.zeros((5), dtype = int )\n",
    "for i in range(5):      \n",
    "        mas51[i] = np.random.randint(0,2)\n",
    "mas52 = np.zeros((5), dtype = int )\n",
    "for i in range(5):      \n",
    "        mas52[i] = np.random.randint(0,2)\n",
    "print(mas51)\n",
    "print(mas52)\n",
    "print()\n",
    "print(mas51 + mas52)\n",
    "print(mas51 - mas52)\n",
    "print(mas51 * mas52)\n"
   ]
  },
  {
   "cell_type": "code",
   "execution_count": 39,
   "id": "cc8c8bb2-f5bd-4af8-853c-dc25a8ec44a7",
   "metadata": {},
   "outputs": [
    {
     "name": "stdout",
     "output_type": "stream",
     "text": [
      "[6 2 0 2 9 5]\n",
      "[6 3 5 7 6 7]\n",
      "\n",
      "145\n"
     ]
    }
   ],
   "source": [
    "# Завдання 6 Створіть два вектори розміром 6, заповніть їх довільними \n",
    "# дійсними числами та знайдіть їх скалярний добуток.\n",
    "mas61 = np.zeros((6), dtype = int )\n",
    "for i in range(6):      \n",
    "        mas61[i] = np.random.randint(0,10)\n",
    "mas62 = np.zeros((6), dtype = int )\n",
    "for i in range(6):      \n",
    "        mas62[i] = np.random.randint(0,10)\n",
    "print(mas61)\n",
    "print(mas62)\n",
    "print()\n",
    "scalar_product = np.dot(mas61, mas62)\n",
    "print(scalar_product)"
   ]
  },
  {
   "cell_type": "code",
   "execution_count": 47,
   "id": "c896d229-bd2c-4467-98da-92abe8c44b5b",
   "metadata": {},
   "outputs": [
    {
     "name": "stdout",
     "output_type": "stream",
     "text": [
      "[[14 10  3]\n",
      " [12 12  8]]\n",
      "\n",
      "[[ 2 13  3 12]\n",
      " [ 5  4  4  4]\n",
      " [11  5  6  2]]\n",
      "\n",
      "[[111 237 100 214]\n",
      " [172 244 132 208]]\n"
     ]
    }
   ],
   "source": [
    "# Завдання 7 Створіть дві матриці розміром 2x3 та 3x4, заповніть їх випадковими\n",
    "# цілими числами в діапазоні від 1 до 15 та перемножте їх між собою.\n",
    "mas71 = np.zeros((2,3), dtype = int )\n",
    "for i in range(2):\n",
    "    for j in range(3):        \n",
    "        mas71[i,j] = np.random.randint(0,15)\n",
    "mas72 = np.zeros((3,4), dtype = int )\n",
    "for i in range(3):\n",
    "    for j in range(4):        \n",
    "        mas72[i,j] = np.random.randint(0,15)\n",
    "print(mas71)\n",
    "print()\n",
    "print(mas72)\n",
    "print()\n",
    "print(np.dot(mas71, mas72))\n",
    "\n"
   ]
  },
  {
   "cell_type": "code",
   "execution_count": 49,
   "id": "96b872ee-442b-47cf-873e-07e0305ff838",
   "metadata": {},
   "outputs": [
    {
     "name": "stdout",
     "output_type": "stream",
     "text": [
      "[[5 1 3]\n",
      " [7 6 6]\n",
      " [5 1 3]]\n",
      "\n",
      "[[-2.34970415e+15 -3.04347826e-01  2.34970415e+15]\n",
      " [-1.76227812e+15  2.17391304e-02  1.76227812e+15]\n",
      " [ 4.50359963e+15  5.00000000e-01 -4.50359963e+15]]\n"
     ]
    }
   ],
   "source": [
    "# Завдання 8 Створіть матрицю розміром 3x3, заповніть її випадковими цілими \n",
    "# числами в діапазоні від 1 до 8 та знайдіть її обернену матрицю.\n",
    "mas81 = np.zeros((3,3), dtype = int )\n",
    "for i in range(3):\n",
    "    for j in range(3):        \n",
    "        mas81[i,j] = np.random.randint(0,8)\n",
    "print(mas81)\n",
    "print()\n",
    "mas81_inv = np.linalg.inv(mas81)\n",
    "print(mas81_inv)\n"
   ]
  },
  {
   "cell_type": "code",
   "execution_count": 51,
   "id": "df164a98-6a88-4eca-8970-a4f5826b7c65",
   "metadata": {},
   "outputs": [
    {
     "name": "stdout",
     "output_type": "stream",
     "text": [
      "[[0 1 1 0]\n",
      " [1 0 0 0]\n",
      " [1 0 0 1]\n",
      " [1 0 0 0]]\n",
      "\n",
      "[[0 1 1 1]\n",
      " [1 0 0 0]\n",
      " [1 0 0 0]\n",
      " [0 0 1 0]]\n"
     ]
    }
   ],
   "source": [
    "# Завдання 9. Створіть матрицю розміром 4x4, заповніть її випадковими\n",
    "# дійсними числами в діапазоні від 0 до 1 та транспонуйте її.\n",
    "mas91 = np.zeros((4,4), dtype = int )\n",
    "for i in range(4):\n",
    "    for j in range(4):        \n",
    "        mas91[i,j] = np.random.randint(0,2)\n",
    "print(mas91)\n",
    "print()\n",
    "mas91t = mas91.T\n",
    "print(mas91t)"
   ]
  },
  {
   "cell_type": "code",
   "execution_count": 63,
   "id": "0c6c62fe-6224-41f7-9a03-2179c757a423",
   "metadata": {},
   "outputs": [
    {
     "name": "stdout",
     "output_type": "stream",
     "text": [
      "[[0.45179054 0.35595829 0.48284148 0.00840943]\n",
      " [0.87270996 0.98887029 0.08353932 0.69327382]\n",
      " [0.02437697 0.9650311  0.98600641 0.21106933]]\n",
      "Середнє значення =  0.5103230783743823\n",
      "\n",
      "[0.89361298 0.84136718 0.07646366 0.08744757]\n",
      "Елементи вектора, які більше середнього значення: \n",
      "0.8936129784136224\n",
      "0.8413671849026194\n"
     ]
    }
   ],
   "source": [
    "# Завдання 10 Створіть матрицю розміром 3x4 та вектор розміром 4, заповніть матрицю випадковими дійсними числами від 0 до 1, \n",
    "# а вектор - випадковими дійсними числами від 0 до 1, і знайдіть елементи отриманого вектору, які більше середнього значення вектору.\n",
    "mas101 = np.zeros((3,4), dtype = float )\n",
    "mid = 0\n",
    "mid2 = 0\n",
    "for i in range(3):\n",
    "    for j in range(4):        \n",
    "        mas101[i,j] = np.random.uniform(0,1)\n",
    "        mid2 += mas101[i,j]\n",
    "mid = mid2/12\n",
    "mas102 = np.zeros((4), dtype = float )\n",
    "mas103 = np.zeros((4), dtype = float )\n",
    "for i in range(4):    \n",
    "    mas102[i] = np.random.uniform(0,1)\n",
    "    if mas102[i] > mid:\n",
    "        mas103[i] = mas102[i]\n",
    "\n",
    "print(mas101)\n",
    "print(\"Середнє значення =  \" + str(mid))\n",
    "print()\n",
    "print(mas102)\n",
    "print(\"Елементи вектора, які більше середнього значення: \")\n",
    "for i in range(4):    \n",
    "    if mas103[i] > 0:\n",
    "        print(mas103[i])"
   ]
  },
  {
   "cell_type": "code",
   "execution_count": 64,
   "id": "ccd45b83-d088-44e5-87ec-478fe75883e4",
   "metadata": {},
   "outputs": [
    {
     "name": "stdout",
     "output_type": "stream",
     "text": [
      "[[6.66805788 8.55713394 8.41579011]\n",
      " [8.996571   7.56373413 6.25461483]]\n",
      "Середнє значення =  3.871325157228288\n",
      "\n",
      "[0.55906736 0.41780776 0.81329241 0.        ]\n",
      "Сума Елементів вектора, які більше середнього значення: \n",
      "0\n"
     ]
    }
   ],
   "source": [
    "# Завдання 11 Створіть матрицю розміром 2x3 та вектор розміром 3, заповніть матрицю випадковими цілими числами в діапазоні\n",
    "# від 1 до 10, а вектор - випадковими дійсними числами від 0 до 1, і знайдіть суму елементів вектору, які більше середнього значення вектору.\n",
    "\n",
    "mas111 = np.zeros((2,3), dtype = float )\n",
    "mid = 0\n",
    "mid2 = 0\n",
    "for i in range(2):\n",
    "    for j in range(3):        \n",
    "        mas111[i,j] = np.random.uniform(0,10)\n",
    "        mid2 += mas111[i,j]\n",
    "mid = mid2/12\n",
    "mas112 = np.zeros((4), dtype = float )\n",
    "mas113 = np.zeros((4), dtype = float )\n",
    "for i in range(3):    \n",
    "    mas112[i] = np.random.uniform(0,1)\n",
    "    if mas112[i] > mid:\n",
    "        mas113[i] = mas112[i]\n",
    "\n",
    "print(mas111)\n",
    "print(\"Середнє значення =  \" + str(mid))\n",
    "print()\n",
    "print(mas112)\n",
    "sum = 0\n",
    "print(\"Сума Елементів вектора, які більше середнього значення: \")\n",
    "for i in range(4):    \n",
    "    if mas113[i] > 0:\n",
    "        sum += mas113[i]\n",
    "print(sum)"
   ]
  },
  {
   "cell_type": "code",
   "execution_count": 68,
   "id": "dbebcb4b-b13d-448b-940d-e164492b3a5f",
   "metadata": {},
   "outputs": [
    {
     "name": "stdout",
     "output_type": "stream",
     "text": [
      "[[2 6 8 2 3 3 7]\n",
      " [0 8 7 8 8 1 4]\n",
      " [7 8 7 2 1 5 9]\n",
      " [6 6 3 2 3 0 9]\n",
      " [9 8 2 0 5 0 7]\n",
      " [3 5 5 9 5 1 7]\n",
      " [5 2 3 0 1 5 0]]\n",
      " Добуток елементів = \n",
      "0\n",
      "0\n"
     ]
    }
   ],
   "source": [
    "# Завдання 12 Створіть дві матриці розміром 7x7, заповніть їх випадковими цілими числами в діапазоні\n",
    "# від 1 до 10 та знайдіть добуток елементів другої матриці.\n",
    "\n",
    "mas121 = np.zeros((7,7), dtype = int )\n",
    "for i in range(7):\n",
    "    for j in range(7):        \n",
    "        mas121[i,j] = np.random.randint(0,10)\n",
    "        \n",
    "mas122 = np.zeros((7,7), dtype = int )\n",
    "for i in range(7):\n",
    "    for j in range(7):        \n",
    "        mas122[i,j] = np.random.randint(0,10)\n",
    "\n",
    "temp = 1\n",
    "mult = 1\n",
    "for i in range(7):\n",
    "    for j in range(7):        \n",
    "        mult *= temp\n",
    "        temp = mas122[i,j]\n",
    "print(mas122)\n",
    "print(\" Добуток елементів = \")\n",
    "print(mult)\n",
    "print(mas122.prod())\n"
   ]
  },
  {
   "cell_type": "code",
   "execution_count": 74,
   "id": "460f78ec-232a-42fa-a683-135e89c70976",
   "metadata": {},
   "outputs": [
    {
     "name": "stdout",
     "output_type": "stream",
     "text": [
      "[[  7   8  -7   9  -3  -5   3]\n",
      " [  6  -2   5  -3   7  -8  -5]\n",
      " [  2   5   3   9  -1   0 -10]\n",
      " [ -8   7   8   4   8   9  -4]\n",
      " [  1   7  -7   3   7  -1  -5]\n",
      " [  2   9  -3 -10  -5  -1  -1]\n",
      " [  4  -9  -5  -8   2  -7  -3]]\n",
      "\n",
      "[[ -9   1  -8   5   3 -10  -5]\n",
      " [  1  -4   8  -2  -8 -10  -8]\n",
      " [ -4  -8   3   5  -7  -7 -10]\n",
      " [  7  -6 -10  -5 -10 -10   2]\n",
      " [ -4  -1  -4  -6   6  -9   0]\n",
      " [ -4  -1  -2  -8   6   9 -10]\n",
      " [ -5  -3   5  -4  -6  -6  -8]]\n",
      "\n",
      " Сума елементів матриці 1 = 14\n",
      " Сума елементів матриці 2 = -161\n",
      " Сума елементів матрицm = -147\n"
     ]
    }
   ],
   "source": [
    "# Завдання 13 Створіть дві матриці розміром 7x7, заповніть їх випадковими цілими \n",
    "# числами в діапазоні від -10 до 10 та знайдіть суму їх елементів.\n",
    "mas131 = np.zeros((7,7), dtype = int )\n",
    "\n",
    "for i in range(7):\n",
    "    for j in range(7):        \n",
    "        mas131[i,j] = np.random.randint(-10,10)\n",
    "        \n",
    "mas132 = np.zeros((7,7), dtype = int )\n",
    "for i in range(7):\n",
    "    for j in range(7):        \n",
    "        mas132[i,j] = np.random.randint(-10,10)\n",
    "\n",
    "print(mas131)\n",
    "print()\n",
    "print(mas132)\n",
    "print()\n",
    "sum1 = mas131.sum()\n",
    "sum2 = mas132.sum()\n",
    "sum3 = sum1 + sum2\n",
    "print(\" Сума елементів матриці 1 = \" + str(sum1))\n",
    "print(\" Сума елементів матриці 2 = \" + str(sum2))\n",
    "print(\" Сума елементів матрицm = \" + str(sum3))"
   ]
  },
  {
   "cell_type": "code",
   "execution_count": 77,
   "id": "2bf04cbe-7b97-4951-82f0-6ca5a3c00617",
   "metadata": {},
   "outputs": [
    {
     "name": "stdout",
     "output_type": "stream",
     "text": [
      "[[58 40 17 70 23 38  2 63 87 94]\n",
      " [75 80 57 54 78  2 12 99 45 94]\n",
      " [77 35 91 51 90 37 44  9 95  7]\n",
      " [55 52 26 66 65 40 37 64 26 98]\n",
      " [82 70 46 62 91 66  8 80 35 94]\n",
      " [89 61 89 98 79 89 53 77 39 55]\n",
      " [77 17 80 72  5 42 76 47 93 73]\n",
      " [84 60 19 95 30 42 90 65 34 10]\n",
      " [51 27 78 50 46 53 99 28 86 44]\n",
      " [ 3 22 50 65 55  2 11 78 91 61]]\n",
      "\n",
      " Середнє арифметичне = 56.27\n"
     ]
    }
   ],
   "source": [
    "# Завдання 14 Створіть матрицю розміром 10x10, заповніть її випадковими цілими числами в діапазоні \n",
    "# від 1 до 100 та знайдіть середнє арифметичне значення елементів матриці.\n",
    "\n",
    "mas141 = np.zeros((10,10), dtype = int )\n",
    "\n",
    "for i in range(10):\n",
    "    for j in range(10):        \n",
    "        mas141[i,j] = np.random.randint(1,100)\n",
    "print(mas141)\n",
    "print()\n",
    "print(\" Середнє арифметичне = \" + str(mas141.mean()))"
   ]
  },
  {
   "cell_type": "code",
   "execution_count": 87,
   "id": "8feac29a-dcfa-44de-8fdb-8c7e3147e42f",
   "metadata": {},
   "outputs": [
    {
     "name": "stdout",
     "output_type": "stream",
     "text": [
      "[[ 0.428  0.573  0.16   0.344 -0.161 -0.931  0.319  0.295]\n",
      " [ 0.033  0.694  0.229 -0.314  0.019 -0.244 -0.8   -0.103]\n",
      " [-0.211  0.657  0.186  0.404 -0.349 -0.513  0.276 -0.857]\n",
      " [ 0.227  0.961  0.926 -0.392  0.836 -0.103 -0.203 -0.689]\n",
      " [-0.943  0.213  0.241  0.291  0.84   0.855 -0.759 -0.928]\n",
      " [-0.929  0.855 -0.74   0.049  0.603  0.659  0.408  0.713]\n",
      " [-0.887  0.707 -0.604 -0.801  0.193 -0.477  0.258  0.269]\n",
      " [ 0.066  0.778  0.669  0.347 -0.792  0.538  0.501  0.594]]\n",
      "\n",
      " вектор найменших елементів: \n",
      "[-0.931 -0.8   -0.857 -0.689 -0.943 -0.929 -0.887 -0.792]\n"
     ]
    }
   ],
   "source": [
    "# Завдання 15 Створіть матрицю розміром 8x8, заповніть її випадковими дійсними числами в діапазоні від\n",
    "# -1 до 1 та знайдіть вектор-стовпчик, що містить найменший елемент у кожному рядку матриці.\n",
    "\n",
    "mas151 = np.zeros((8,8), dtype = float )\n",
    "\n",
    "for i in range(8):\n",
    "    for j in range(8):        \n",
    "        rand = np.random.uniform(-1,1)\n",
    "        mas151[i,j] = round(rand, 3)\n",
    "print(mas151)\n",
    "print()\n",
    "mas152 = np.zeros((8), dtype = float )\n",
    "for i in range(8):\n",
    "    mas152[i] = mas151[i].min()\n",
    "print(\" вектор найменших елементів: \")\n",
    "print(mas152)\n"
   ]
  },
  {
   "cell_type": "code",
   "execution_count": null,
   "id": "3f3bdfff-7ad8-4053-aa9d-03aceb0c9cad",
   "metadata": {},
   "outputs": [],
   "source": [
    "# Отже, було проведено роботу з одновимірними та двовимірними масивами, а також функціями для роботи з ними (numpy)"
   ]
  }
 ],
 "metadata": {
  "kernelspec": {
   "display_name": "Python 3 (ipykernel)",
   "language": "python",
   "name": "python3"
  },
  "language_info": {
   "codemirror_mode": {
    "name": "ipython",
    "version": 3
   },
   "file_extension": ".py",
   "mimetype": "text/x-python",
   "name": "python",
   "nbconvert_exporter": "python",
   "pygments_lexer": "ipython3",
   "version": "3.10.9"
  }
 },
 "nbformat": 4,
 "nbformat_minor": 5
}
